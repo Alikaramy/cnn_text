{
  "cells": [
    {
      "cell_type": "code",
      "execution_count": null,
      "metadata": {
        "id": "NRReNkuYpFbW"
      },
      "outputs": [],
      "source": [
        "import tensorflow as tf\n",
        "from tensorflow import keras\n",
        "import numpy as np"
      ]
    },
    {
      "cell_type": "code",
      "execution_count": null,
      "metadata": {
        "id": "_bOmQ-SWJ0I7"
      },
      "outputs": [],
      "source": [
        "from google.colab import drive\n",
        "drive.mount('/content/drive')"
      ]
    },
    {
      "cell_type": "code",
      "execution_count": null,
      "metadata": {
        "id": "Fk0STkSw7NM5"
      },
      "outputs": [],
      "source": [
        "import cv2 as cv"
      ]
    },
    {
      "cell_type": "code",
      "execution_count": null,
      "metadata": {
        "id": "b8uy4Ulk2wcy"
      },
      "outputs": [],
      "source": [
        "import os, glob"
      ]
    },
    {
      "cell_type": "code",
      "execution_count": null,
      "metadata": {
        "id": "hG-FjaXcuz_8"
      },
      "outputs": [],
      "source": [
        "import shutil"
      ]
    },
    {
      "cell_type": "code",
      "execution_count": null,
      "metadata": {
        "id": "PCNV8zlRpgbP"
      },
      "outputs": [],
      "source": [
        "CHARS = \"0123456789abcdefghijklmnopqrstuvwxyzABCDEFGHIJKLMNOPQRSTUVWXYZ\""
      ]
    },
    {
      "cell_type": "markdown",
      "metadata": {
        "id": "-4w2Tod_JKGi"
      },
      "source": [
        "# New Section"
      ]
    },
    {
      "cell_type": "code",
      "execution_count": null,
      "metadata": {
        "id": "cF699uTZu0DV"
      },
      "outputs": [],
      "source": [
        "shutil.unpack_archive(\"/content/drive/MyDrive/English.zip\")"
      ]
    },
    {
      "cell_type": "code",
      "execution_count": null,
      "metadata": {
        "id": "Kf5ANMd_u0GG"
      },
      "outputs": [],
      "source": [
        "path=\"/content/English/Fnt/Sample00\"\n",
        "path2=\"/content/English/Fnt/Sample0\""
      ]
    },
    {
      "cell_type": "code",
      "execution_count": null,
      "metadata": {
        "id": "3mTJDDWlu0NW"
      },
      "outputs": [],
      "source": [
        "data=[]\n",
        "label=[]\n",
        "for i in range(1,10):\n",
        "  file_path=path+str(i)\n",
        "  for infile in glob.glob( os.path.join(file_path, '*.png') ):\n",
        "    data.append(cv.imread(infile))\n",
        "    label.append(CHARS[i-1])\n",
        "for n in range(10,63):\n",
        "  file_path=path2+str(n)\n",
        "  print(file_path)\n",
        "  for infile in glob.glob( os.path.join(file_path, '*.png') ):\n",
        "    data.append(cv.imread(infile))\n",
        "    label.append(CHARS[n-1])\n",
        "\n"
      ]
    },
    {
      "cell_type": "code",
      "execution_count": null,
      "metadata": {
        "id": "jVjGbLArBfBI"
      },
      "outputs": [],
      "source": [
        "data=np.array(data)"
      ]
    },
    {
      "cell_type": "code",
      "execution_count": null,
      "metadata": {
        "id": "oZC3Nv8yE9V3"
      },
      "outputs": [],
      "source": [
        "label=np.array(label)\n"
      ]
    },
    {
      "cell_type": "code",
      "execution_count": null,
      "metadata": {
        "id": "phSnir4niXjJ"
      },
      "outputs": [],
      "source": [
        "import pandas as pd\n"
      ]
    },
    {
      "cell_type": "code",
      "execution_count": null,
      "metadata": {
        "id": "17JHErN3ig61"
      },
      "outputs": [],
      "source": [
        "label=pd.get_dummies(label)"
      ]
    },
    {
      "cell_type": "code",
      "execution_count": null,
      "metadata": {
        "id": "G-P6FpzRFRdv"
      },
      "outputs": [],
      "source": [
        "data.shape"
      ]
    },
    {
      "cell_type": "code",
      "execution_count": null,
      "metadata": {
        "id": "m8EIlRbf8jPK"
      },
      "outputs": [],
      "source": [
        "from sklearn.model_selection import train_test_split"
      ]
    },
    {
      "cell_type": "code",
      "execution_count": null,
      "metadata": {
        "id": "j3wsYk_S9L3v"
      },
      "outputs": [],
      "source": [
        "xtrain,xtest,ytrain,ytest=train_test_split(data,label,test_size=0.25)"
      ]
    },
    {
      "cell_type": "code",
      "execution_count": null,
      "metadata": {},
      "outputs": [],
      "source": [
        "my_callbacks = [\n",
        "    keras.callbacks.EarlyStopping(patience=4),\n",
        "    keras.callbacks.ModelCheckpoint(filepath='model.{epoch:02d}-{val_loss:.2f}.h5'),\n",
        "    keras.callbacks.TensorBoard(log_dir='./logs'),\n",
        "]"
      ]
    },
    {
      "cell_type": "code",
      "execution_count": null,
      "metadata": {},
      "outputs": [],
      "source": [
        "inp=keras.Input(shape=(128,128,1))"
      ]
    },
    {
      "cell_type": "code",
      "execution_count": null,
      "metadata": {},
      "outputs": [],
      "source": [
        "conv1=keras.layers.Conv2D(16,(3,3),activation='relu')(inp)\n",
        "pul1=keras.layers.MaxPool2D((2,2),padding=\"valid\")(conv1)\n",
        "conv2=keras.layers.Conv2D(32,(3,3),activation='relu')(pul1)\n",
        "pul2=keras.layers.MaxPool2D((2,2),padding=\"valid\")(conv2)\n",
        "conv3=keras.layers.Conv2D(64,(3,3),activation='relu')(pul2)\n",
        "pul3=keras.layers.MaxPool2D((2,2),padding=\"valid\")(conv3)\n",
        "flatten=keras.layers.Flatten()(pul3)\n",
        "l1=keras.layers.Dense(256,activation='relu')(flatten)\n",
        "l2=keras.layers.Dense(256,activation='relu')(l1)\n",
        "d1=keras.layers.Dropout(0.25)(l2)\n",
        "l3=keras.layers.Dense(256,activation='relu')(d1)\n",
        "d2=keras.layers.Dropout(0.25)(l3)\n",
        "out=keras.layers.Dense(62,activation=\"softmax\")(d2)"
      ]
    },
    {
      "cell_type": "code",
      "execution_count": null,
      "metadata": {},
      "outputs": [],
      "source": [
        "model=keras.Model(inputs=inp, outputs=out)"
      ]
    },
    {
      "cell_type": "code",
      "execution_count": null,
      "metadata": {},
      "outputs": [],
      "source": [
        "model.compile(loss='categorical_crossentropy',optimizer='adam',metrics='accuracy')"
      ]
    },
    {
      "cell_type": "code",
      "execution_count": null,
      "metadata": {},
      "outputs": [],
      "source": [
        "model.summary()"
      ]
    },
    {
      "cell_type": "code",
      "execution_count": null,
      "metadata": {},
      "outputs": [],
      "source": [
        "hist=model.fit(xtrain,ytrain,batch_size=32,epochs=100,callbacks=my_callbacks,validation_data=[xtest,ytest])"
      ]
    },
    {
      "cell_type": "code",
      "execution_count": null,
      "metadata": {},
      "outputs": [],
      "source": [
        "import matplotlib.pyplot as plt"
      ]
    },
    {
      "cell_type": "code",
      "execution_count": null,
      "metadata": {},
      "outputs": [],
      "source": [
        "history=hist.history"
      ]
    },
    {
      "cell_type": "code",
      "execution_count": null,
      "metadata": {},
      "outputs": [],
      "source": [
        "loss=history['loss']\n",
        "val_loss=history['val_loss']\n",
        "accuracy=history['accuracy']\n",
        "val_accuracy=history['val_accuracy']"
      ]
    },
    {
      "cell_type": "code",
      "execution_count": null,
      "metadata": {},
      "outputs": [],
      "source": [
        "plt.plot(loss,label=\"loss\")\n",
        "plt.plot(val_loss,label=\"val_loss\")\n",
        "plt.legend()\n",
        "plt.show()"
      ]
    },
    {
      "cell_type": "code",
      "execution_count": null,
      "metadata": {},
      "outputs": [],
      "source": [
        "plt.plot(accuracy,label=\"accuracy\")\n",
        "plt.plot(val_accuracy,label=\"val_accutacy\")\n",
        "plt.legend()\n",
        "plt.show()"
      ]
    }
  ],
  "metadata": {
    "colab": {
      "provenance": []
    },
    "kernelspec": {
      "display_name": "Python 3",
      "name": "python3"
    },
    "language_info": {
      "name": "python"
    }
  },
  "nbformat": 4,
  "nbformat_minor": 0
}
